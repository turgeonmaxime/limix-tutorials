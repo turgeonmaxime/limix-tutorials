{
 "cells": [
  {
   "cell_type": "markdown",
   "metadata": {},
   "source": [
    "# Genotype to phenotype mapping tutorials using LIMIX"
   ]
  },
  {
   "cell_type": "markdown",
   "metadata": {},
   "source": [
    "We here provide tutorials for common tasks in genotype to phenotype analysis, ranging from raw data processing to complex genetic analyses."
   ]
  },
  {
   "cell_type": "markdown",
   "metadata": {},
   "source": [
    "# Table of Contents\n",
    "\n",
    "1. Preprocessing and Quality control\n",
    "    * [Loading data](preprocessing_QC/loading_files.ipynb)\n",
    "    * [Genotype Quality control](preprocessing_QC/genotype_QC.ipynb)\n",
    "2. Linear regression and false discovery rates\n",
    "    * [Linear regression and multiple testing](linear_regression_FDR/QTL_mapping1.ipynb)\n",
    "3. Linear mixed models and population structure\n",
    "    * [Linear mixed models, example applications](LMM_singletrait/LMM_example.ipynb)\n",
    "    * [Simulating GWAS data, population structure and step-wise association analysis](LMM_singletrait/LMM_simulation.ipynb)\n",
    "4. Multiple trait analyses\n",
    "    * [Multitrait modelling, examples](LMM_multitrait/LMM_multitrait_example.ipynb)\n",
    "5. eQTL mapping\n",
    "    * [Basic eQTL mapping and variance component modelling](eQTL/eQTL_basics.ipynb)\n",
    "6. mtSet\n",
    "    * [Set test for joint analysis of multiple traits](mtSet/index.ipynb)\n",
    "7. Non linear mixed models\n",
    "    * [Mixed random forest](Mixed_RF/Mixed_RF_example.ipynb)"
   ]
  },
  {
   "cell_type": "code",
   "execution_count": null,
   "metadata": {
    "collapsed": true
   },
   "outputs": [],
   "source": []
  }
 ],
 "metadata": {
  "kernelspec": {
   "display_name": "Python 2",
   "language": "python",
   "name": "python2"
  },
  "language_info": {
   "codemirror_mode": {
    "name": "ipython",
    "version": 2
   },
   "file_extension": ".py",
   "mimetype": "text/x-python",
   "name": "python",
   "nbconvert_exporter": "python",
   "pygments_lexer": "ipython2",
   "version": "2.7.10"
  }
 },
 "nbformat": 4,
 "nbformat_minor": 0
}
